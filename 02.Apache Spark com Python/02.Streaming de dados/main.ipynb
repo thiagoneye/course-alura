{
 "cells": [
  {
   "cell_type": "markdown",
   "id": "7afe2cff",
   "metadata": {},
   "source": [
    "# Formação Apache Spark\n",
    "\n",
    "## Streaming de Dados"
   ]
  },
  {
   "cell_type": "code",
   "execution_count": null,
   "id": "2ad3b68e",
   "metadata": {},
   "outputs": [],
   "source": [
    "# Download Packages\n",
    "\n",
    "!pip install pyspark"
   ]
  },
  {
   "cell_type": "code",
   "execution_count": null,
   "id": "bb460f1f",
   "metadata": {},
   "outputs": [],
   "source": [
    "# Imports\n",
    "\n"
   ]
  }
 ],
 "metadata": {
  "kernelspec": {
   "display_name": "Python 3 (ipykernel)",
   "language": "python",
   "name": "python3"
  },
  "language_info": {
   "codemirror_mode": {
    "name": "ipython",
    "version": 3
   },
   "file_extension": ".py",
   "mimetype": "text/x-python",
   "name": "python",
   "nbconvert_exporter": "python",
   "pygments_lexer": "ipython3",
   "version": "3.10.9"
  }
 },
 "nbformat": 4,
 "nbformat_minor": 5
}
