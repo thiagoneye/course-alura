{
  "cells": [
    {
      "cell_type": "markdown",
      "metadata": {
        "id": "view-in-github",
        "colab_type": "text"
      },
      "source": [
        "<a href=\"https://colab.research.google.com/github/thiagoneye/course-alura/blob/main/02.Apache%20Spark%20com%20Python/02.Streaming%20de%20dados/main.ipynb\" target=\"_parent\"><img src=\"https://colab.research.google.com/assets/colab-badge.svg\" alt=\"Open In Colab\"/></a>"
      ]
    },
    {
      "cell_type": "markdown",
      "id": "7afe2cff",
      "metadata": {
        "id": "7afe2cff"
      },
      "source": [
        "# Formação Apache Spark\n",
        "\n",
        "## RDDs (Resilient Distributed Datasets)"
      ]
    },
    {
      "cell_type": "code",
      "execution_count": 1,
      "id": "2ad3b68e",
      "metadata": {
        "id": "2ad3b68e",
        "outputId": "320b2573-f96e-44c3-e114-53319d10f0b9",
        "colab": {
          "base_uri": "https://localhost:8080/"
        }
      },
      "outputs": [
        {
          "output_type": "stream",
          "name": "stdout",
          "text": [
            "Looking in indexes: https://pypi.org/simple, https://us-python.pkg.dev/colab-wheels/public/simple/\n",
            "Requirement already satisfied: pyspark in /usr/local/lib/python3.10/dist-packages (3.4.0)\n",
            "Requirement already satisfied: py4j==0.10.9.7 in /usr/local/lib/python3.10/dist-packages (from pyspark) (0.10.9.7)\n"
          ]
        }
      ],
      "source": [
        "# Download Packages\n",
        "\n",
        "!pip install pyspark\n"
      ]
    },
    {
      "cell_type": "code",
      "execution_count": 2,
      "id": "bb460f1f",
      "metadata": {
        "id": "bb460f1f"
      },
      "outputs": [],
      "source": [
        "# Imports\n",
        "\n",
        "from pyspark import SparkContext\n"
      ]
    },
    {
      "cell_type": "code",
      "source": [
        "# Dataset Creation\n",
        "\n",
        "data = [1, 2, 3, 4, 5]\n",
        "\n",
        "sc = SparkContext()\n",
        "rdd = sc.parallelize(data)\n"
      ],
      "metadata": {
        "id": "LZC5yLZu-usm"
      },
      "id": "LZC5yLZu-usm",
      "execution_count": 3,
      "outputs": []
    },
    {
      "cell_type": "markdown",
      "source": [
        "### Operações de Ação"
      ],
      "metadata": {
        "id": "mvyJPz6F_tS3"
      },
      "id": "mvyJPz6F_tS3"
    },
    {
      "cell_type": "code",
      "source": [
        "rdd.collect()"
      ],
      "metadata": {
        "id": "9-dKDju6_OoL",
        "outputId": "d745e627-bcce-49a7-a26f-7ce7a9071079",
        "colab": {
          "base_uri": "https://localhost:8080/"
        }
      },
      "id": "9-dKDju6_OoL",
      "execution_count": 4,
      "outputs": [
        {
          "output_type": "execute_result",
          "data": {
            "text/plain": [
              "[1, 2, 3, 4, 5]"
            ]
          },
          "metadata": {},
          "execution_count": 4
        }
      ]
    },
    {
      "cell_type": "code",
      "source": [
        "rdd.count()"
      ],
      "metadata": {
        "id": "eIz6aZmt_obv",
        "outputId": "397927d7-c402-44f9-e01c-46f00dd75b71",
        "colab": {
          "base_uri": "https://localhost:8080/"
        }
      },
      "id": "eIz6aZmt_obv",
      "execution_count": 5,
      "outputs": [
        {
          "output_type": "execute_result",
          "data": {
            "text/plain": [
              "5"
            ]
          },
          "metadata": {},
          "execution_count": 5
        }
      ]
    },
    {
      "cell_type": "code",
      "source": [
        "rdd.reduce(lambda x, y: x + y)"
      ],
      "metadata": {
        "id": "pVusQFtO_UYg",
        "outputId": "0b86cc39-c9f2-4b58-edc1-21244a216a27",
        "colab": {
          "base_uri": "https://localhost:8080/"
        }
      },
      "id": "pVusQFtO_UYg",
      "execution_count": 6,
      "outputs": [
        {
          "output_type": "execute_result",
          "data": {
            "text/plain": [
              "15"
            ]
          },
          "metadata": {},
          "execution_count": 6
        }
      ]
    },
    {
      "cell_type": "markdown",
      "source": [
        "### Operações de Transformação"
      ],
      "metadata": {
        "id": "onxfJKvV_xHN"
      },
      "id": "onxfJKvV_xHN"
    },
    {
      "cell_type": "code",
      "source": [
        "rdd.map(lambda x: x**2).collect()"
      ],
      "metadata": {
        "id": "5uAfFpxz_aKa",
        "outputId": "9f999f24-7b4c-45cb-86f2-99d941bd7f54",
        "colab": {
          "base_uri": "https://localhost:8080/"
        }
      },
      "id": "5uAfFpxz_aKa",
      "execution_count": 7,
      "outputs": [
        {
          "output_type": "execute_result",
          "data": {
            "text/plain": [
              "[1, 4, 9, 16, 25]"
            ]
          },
          "metadata": {},
          "execution_count": 7
        }
      ]
    },
    {
      "cell_type": "code",
      "source": [
        "rdd.filter(lambda x: x%2 == 0).collect()"
      ],
      "metadata": {
        "id": "ruofWsKKA9bv",
        "outputId": "13b3b112-a685-43cb-9f4b-065152bb6115",
        "colab": {
          "base_uri": "https://localhost:8080/"
        }
      },
      "id": "ruofWsKKA9bv",
      "execution_count": 8,
      "outputs": [
        {
          "output_type": "execute_result",
          "data": {
            "text/plain": [
              "[2, 4]"
            ]
          },
          "metadata": {},
          "execution_count": 8
        }
      ]
    },
    {
      "cell_type": "code",
      "source": [
        "# End of Context\n",
        "\n",
        "sc.stop()\n"
      ],
      "metadata": {
        "id": "hzkZzlj-BQEF"
      },
      "id": "hzkZzlj-BQEF",
      "execution_count": 9,
      "outputs": []
    }
  ],
  "metadata": {
    "kernelspec": {
      "display_name": "Python 3 (ipykernel)",
      "language": "python",
      "name": "python3"
    },
    "language_info": {
      "codemirror_mode": {
        "name": "ipython",
        "version": 3
      },
      "file_extension": ".py",
      "mimetype": "text/x-python",
      "name": "python",
      "nbconvert_exporter": "python",
      "pygments_lexer": "ipython3",
      "version": "3.10.9"
    },
    "colab": {
      "provenance": [],
      "include_colab_link": true
    }
  },
  "nbformat": 4,
  "nbformat_minor": 5
}